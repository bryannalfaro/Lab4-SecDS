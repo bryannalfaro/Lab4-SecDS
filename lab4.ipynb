{
 "cells": [
  {
   "attachments": {},
   "cell_type": "markdown",
   "metadata": {},
   "source": [
    "Raul Jimenez 19017\n",
    "Bryann Alfaro 19372\n",
    "Donaldo Garcia 19683\n",
    "\n",
    "Laboratorio 4 "
   ]
  },
  {
   "cell_type": "code",
   "execution_count": 141,
   "metadata": {},
   "outputs": [],
   "source": [
    "import pandas as pd\n",
    "import matplotlib.pyplot as plt\n",
    "import seaborn as sns\n",
    "from sklearn.preprocessing import StandardScaler\n",
    "import sklearn\n",
    "import matplotlib.pyplot as plt\n",
    "import numpy as np\n",
    "import sklearn.cluster as cluster\n",
    "from sklearn.cluster import KMeans\n",
    "import itertools\n",
    "from sklearn.preprocessing import scale\n",
    "from sklearn.cluster import KMeans\n",
    "from sklearn.metrics import jaccard_score\n",
    "from sklearn.cluster import DBSCAN\n",
    "from sklearn.metrics import silhouette_score\n",
    "from sklearn.decomposition import PCA\n",
    "from os import listdir\n",
    "import os\n",
    "\n",
    "%matplotlib inline"
   ]
  },
  {
   "cell_type": "code",
   "execution_count": 142,
   "metadata": {},
   "outputs": [
    {
     "data": {
      "text/html": [
       "<div>\n",
       "<style scoped>\n",
       "    .dataframe tbody tr th:only-of-type {\n",
       "        vertical-align: middle;\n",
       "    }\n",
       "\n",
       "    .dataframe tbody tr th {\n",
       "        vertical-align: top;\n",
       "    }\n",
       "\n",
       "    .dataframe thead th {\n",
       "        text-align: right;\n",
       "    }\n",
       "</style>\n",
       "<table border=\"1\" class=\"dataframe\">\n",
       "  <thead>\n",
       "    <tr style=\"text-align: right;\">\n",
       "      <th></th>\n",
       "      <th>.rsrc</th>\n",
       "      <th>.rsrcvAddress</th>\n",
       "      <th>.rsrcvSize</th>\n",
       "      <th>.rsrcrSize</th>\n",
       "      <th>KERNEL32.DLL</th>\n",
       "      <th>MSVCRT.dll</th>\n",
       "      <th>SHELL32.dll</th>\n",
       "      <th>USER32.dll</th>\n",
       "      <th>WS2_32.dll</th>\n",
       "      <th>htons</th>\n",
       "      <th>...</th>\n",
       "      <th>shutdown</th>\n",
       "      <th>htonl</th>\n",
       "      <th>ntohl</th>\n",
       "      <th>select</th>\n",
       "      <th>WSACleanup</th>\n",
       "      <th>WSAGetLastError</th>\n",
       "      <th>PSAPI.DLL</th>\n",
       "      <th>listen</th>\n",
       "      <th>bind</th>\n",
       "      <th>accept</th>\n",
       "    </tr>\n",
       "  </thead>\n",
       "  <tbody>\n",
       "    <tr>\n",
       "      <th>0</th>\n",
       "      <td>True</td>\n",
       "      <td>16384.0</td>\n",
       "      <td>124.0</td>\n",
       "      <td>512.0</td>\n",
       "      <td>True</td>\n",
       "      <td>True</td>\n",
       "      <td>True</td>\n",
       "      <td>True</td>\n",
       "      <td>True</td>\n",
       "      <td>True</td>\n",
       "      <td>...</td>\n",
       "      <td>NaN</td>\n",
       "      <td>NaN</td>\n",
       "      <td>NaN</td>\n",
       "      <td>NaN</td>\n",
       "      <td>NaN</td>\n",
       "      <td>NaN</td>\n",
       "      <td>NaN</td>\n",
       "      <td>NaN</td>\n",
       "      <td>NaN</td>\n",
       "      <td>NaN</td>\n",
       "    </tr>\n",
       "    <tr>\n",
       "      <th>1</th>\n",
       "      <td>NaN</td>\n",
       "      <td>NaN</td>\n",
       "      <td>NaN</td>\n",
       "      <td>NaN</td>\n",
       "      <td>NaN</td>\n",
       "      <td>True</td>\n",
       "      <td>True</td>\n",
       "      <td>True</td>\n",
       "      <td>True</td>\n",
       "      <td>NaN</td>\n",
       "      <td>...</td>\n",
       "      <td>NaN</td>\n",
       "      <td>NaN</td>\n",
       "      <td>NaN</td>\n",
       "      <td>NaN</td>\n",
       "      <td>NaN</td>\n",
       "      <td>NaN</td>\n",
       "      <td>NaN</td>\n",
       "      <td>NaN</td>\n",
       "      <td>NaN</td>\n",
       "      <td>NaN</td>\n",
       "    </tr>\n",
       "    <tr>\n",
       "      <th>2</th>\n",
       "      <td>True</td>\n",
       "      <td>16384.0</td>\n",
       "      <td>128.0</td>\n",
       "      <td>512.0</td>\n",
       "      <td>True</td>\n",
       "      <td>True</td>\n",
       "      <td>True</td>\n",
       "      <td>True</td>\n",
       "      <td>True</td>\n",
       "      <td>True</td>\n",
       "      <td>...</td>\n",
       "      <td>NaN</td>\n",
       "      <td>NaN</td>\n",
       "      <td>NaN</td>\n",
       "      <td>NaN</td>\n",
       "      <td>NaN</td>\n",
       "      <td>NaN</td>\n",
       "      <td>NaN</td>\n",
       "      <td>NaN</td>\n",
       "      <td>NaN</td>\n",
       "      <td>NaN</td>\n",
       "    </tr>\n",
       "    <tr>\n",
       "      <th>3</th>\n",
       "      <td>NaN</td>\n",
       "      <td>NaN</td>\n",
       "      <td>NaN</td>\n",
       "      <td>NaN</td>\n",
       "      <td>NaN</td>\n",
       "      <td>True</td>\n",
       "      <td>True</td>\n",
       "      <td>True</td>\n",
       "      <td>True</td>\n",
       "      <td>NaN</td>\n",
       "      <td>...</td>\n",
       "      <td>NaN</td>\n",
       "      <td>NaN</td>\n",
       "      <td>NaN</td>\n",
       "      <td>NaN</td>\n",
       "      <td>NaN</td>\n",
       "      <td>NaN</td>\n",
       "      <td>NaN</td>\n",
       "      <td>NaN</td>\n",
       "      <td>NaN</td>\n",
       "      <td>NaN</td>\n",
       "    </tr>\n",
       "    <tr>\n",
       "      <th>4</th>\n",
       "      <td>True</td>\n",
       "      <td>16384.0</td>\n",
       "      <td>124.0</td>\n",
       "      <td>512.0</td>\n",
       "      <td>True</td>\n",
       "      <td>True</td>\n",
       "      <td>True</td>\n",
       "      <td>True</td>\n",
       "      <td>True</td>\n",
       "      <td>True</td>\n",
       "      <td>...</td>\n",
       "      <td>NaN</td>\n",
       "      <td>NaN</td>\n",
       "      <td>NaN</td>\n",
       "      <td>NaN</td>\n",
       "      <td>NaN</td>\n",
       "      <td>NaN</td>\n",
       "      <td>NaN</td>\n",
       "      <td>NaN</td>\n",
       "      <td>NaN</td>\n",
       "      <td>NaN</td>\n",
       "    </tr>\n",
       "  </tbody>\n",
       "</table>\n",
       "<p>5 rows × 45 columns</p>\n",
       "</div>"
      ],
      "text/plain": [
       "  .rsrc  .rsrcvAddress  .rsrcvSize  .rsrcrSize KERNEL32.DLL  MSVCRT.dll  \\\n",
       "0  True        16384.0       124.0       512.0         True        True   \n",
       "1   NaN            NaN         NaN         NaN          NaN        True   \n",
       "2  True        16384.0       128.0       512.0         True        True   \n",
       "3   NaN            NaN         NaN         NaN          NaN        True   \n",
       "4  True        16384.0       124.0       512.0         True        True   \n",
       "\n",
       "  SHELL32.dll USER32.dll  WS2_32.dll htons  ... shutdown htonl  ntohl select  \\\n",
       "0        True       True        True  True  ...      NaN   NaN    NaN    NaN   \n",
       "1        True       True        True   NaN  ...      NaN   NaN    NaN    NaN   \n",
       "2        True       True        True  True  ...      NaN   NaN    NaN    NaN   \n",
       "3        True       True        True   NaN  ...      NaN   NaN    NaN    NaN   \n",
       "4        True       True        True  True  ...      NaN   NaN    NaN    NaN   \n",
       "\n",
       "  WSACleanup WSAGetLastError PSAPI.DLL listen  bind  accept  \n",
       "0        NaN             NaN       NaN    NaN   NaN     NaN  \n",
       "1        NaN             NaN       NaN    NaN   NaN     NaN  \n",
       "2        NaN             NaN       NaN    NaN   NaN     NaN  \n",
       "3        NaN             NaN       NaN    NaN   NaN     NaN  \n",
       "4        NaN             NaN       NaN    NaN   NaN     NaN  \n",
       "\n",
       "[5 rows x 45 columns]"
      ]
     },
     "execution_count": 142,
     "metadata": {},
     "output_type": "execute_result"
    }
   ],
   "source": [
    "df = pd.read_csv('malware_dataset.csv')\n",
    "df.head()"
   ]
  },
  {
   "attachments": {},
   "cell_type": "markdown",
   "metadata": {},
   "source": [
    "## Exploracion"
   ]
  },
  {
   "cell_type": "code",
   "execution_count": 143,
   "metadata": {},
   "outputs": [
    {
     "data": {
      "text/plain": [
       "(40, 45)"
      ]
     },
     "execution_count": 143,
     "metadata": {},
     "output_type": "execute_result"
    }
   ],
   "source": [
    "df.shape"
   ]
  },
  {
   "cell_type": "code",
   "execution_count": 144,
   "metadata": {},
   "outputs": [
    {
     "data": {
      "text/plain": [
       "Index(['.rsrc', '.rsrcvAddress', '.rsrcvSize', '.rsrcrSize', 'KERNEL32.DLL',\n",
       "       'MSVCRT.dll', 'SHELL32.dll', 'USER32.dll', 'WS2_32.dll', 'htons',\n",
       "       'connect', 'socket', 'WSAStartup', 'send', 'inet_addr', 'recv',\n",
       "       'closesocket', '.data', '.datavAddress', '.datavSize', '.datarSize',\n",
       "       'KERNEL32.dll', 'ADVAPI32.dll', 'WININET.dll', 'gethostbyname',\n",
       "       'inet_ntoa', 'gethostname', '.reloc', '.relocvAddress', '.relocvSize',\n",
       "       '.relocrSize', 'GDI32.dll', 'NETAPI32.dll', 'ntdll.dll',\n",
       "       'WSASetLastError', 'shutdown', 'htonl', 'ntohl', 'select', 'WSACleanup',\n",
       "       'WSAGetLastError', 'PSAPI.DLL', 'listen', 'bind', 'accept'],\n",
       "      dtype='object')"
      ]
     },
     "execution_count": 144,
     "metadata": {},
     "output_type": "execute_result"
    }
   ],
   "source": [
    "df.keys()"
   ]
  },
  {
   "cell_type": "code",
   "execution_count": 145,
   "metadata": {},
   "outputs": [
    {
     "data": {
      "text/plain": [
       "True    25\n",
       "Name: .rsrc, dtype: int64"
      ]
     },
     "execution_count": 145,
     "metadata": {},
     "output_type": "execute_result"
    }
   ],
   "source": [
    "df['.rsrc'].value_counts()"
   ]
  },
  {
   "cell_type": "code",
   "execution_count": 146,
   "metadata": {},
   "outputs": [
    {
     "data": {
      "text/plain": [
       "16384.0      21\n",
       "2031616.0     3\n",
       "4030464.0     1\n",
       "Name: .rsrcvAddress, dtype: int64"
      ]
     },
     "execution_count": 146,
     "metadata": {},
     "output_type": "execute_result"
    }
   ],
   "source": [
    "df['.rsrcvAddress'].value_counts()"
   ]
  },
  {
   "cell_type": "code",
   "execution_count": 147,
   "metadata": {},
   "outputs": [
    {
     "data": {
      "text/plain": [
       "124.0     10\n",
       "128.0      8\n",
       "132.0      3\n",
       "912.0      3\n",
       "1032.0     1\n",
       "Name: .rsrcvSize, dtype: int64"
      ]
     },
     "execution_count": 147,
     "metadata": {},
     "output_type": "execute_result"
    }
   ],
   "source": [
    "df['.rsrcvSize'].value_counts()"
   ]
  },
  {
   "cell_type": "code",
   "execution_count": 148,
   "metadata": {},
   "outputs": [
    {
     "data": {
      "text/plain": [
       "1536.0     7\n",
       "14848.0    2\n",
       "51712.0    1\n",
       "Name: .datarSize, dtype: int64"
      ]
     },
     "execution_count": 148,
     "metadata": {},
     "output_type": "execute_result"
    }
   ],
   "source": [
    "df['.datarSize'].value_counts()"
   ]
  },
  {
   "cell_type": "code",
   "execution_count": 149,
   "metadata": {},
   "outputs": [],
   "source": [
    "#Make a pandas profile\n",
    "# import pandas_profiling\n",
    "# report = pandas_profiling.ProfileReport(df)\n",
    "# report.to_file(\"Reporte Phishing.html\")"
   ]
  },
  {
   "attachments": {},
   "cell_type": "markdown",
   "metadata": {},
   "source": [
    "## Preprosesamiento"
   ]
  },
  {
   "cell_type": "code",
   "execution_count": 150,
   "metadata": {},
   "outputs": [
    {
     "name": "stdout",
     "output_type": "stream",
     "text": [
      "(40, 45)\n"
     ]
    },
    {
     "data": {
      "text/html": [
       "<div>\n",
       "<style scoped>\n",
       "    .dataframe tbody tr th:only-of-type {\n",
       "        vertical-align: middle;\n",
       "    }\n",
       "\n",
       "    .dataframe tbody tr th {\n",
       "        vertical-align: top;\n",
       "    }\n",
       "\n",
       "    .dataframe thead th {\n",
       "        text-align: right;\n",
       "    }\n",
       "</style>\n",
       "<table border=\"1\" class=\"dataframe\">\n",
       "  <thead>\n",
       "    <tr style=\"text-align: right;\">\n",
       "      <th></th>\n",
       "      <th>.rsrc</th>\n",
       "      <th>.rsrcvAddress</th>\n",
       "      <th>.rsrcvSize</th>\n",
       "      <th>.rsrcrSize</th>\n",
       "      <th>KERNEL32.DLL</th>\n",
       "      <th>MSVCRT.dll</th>\n",
       "      <th>SHELL32.dll</th>\n",
       "      <th>USER32.dll</th>\n",
       "      <th>WS2_32.dll</th>\n",
       "      <th>htons</th>\n",
       "      <th>...</th>\n",
       "      <th>shutdown</th>\n",
       "      <th>htonl</th>\n",
       "      <th>ntohl</th>\n",
       "      <th>select</th>\n",
       "      <th>WSACleanup</th>\n",
       "      <th>WSAGetLastError</th>\n",
       "      <th>PSAPI.DLL</th>\n",
       "      <th>listen</th>\n",
       "      <th>bind</th>\n",
       "      <th>accept</th>\n",
       "    </tr>\n",
       "  </thead>\n",
       "  <tbody>\n",
       "    <tr>\n",
       "      <th>0</th>\n",
       "      <td>True</td>\n",
       "      <td>16384.0</td>\n",
       "      <td>124.0</td>\n",
       "      <td>512.0</td>\n",
       "      <td>True</td>\n",
       "      <td>True</td>\n",
       "      <td>True</td>\n",
       "      <td>True</td>\n",
       "      <td>True</td>\n",
       "      <td>True</td>\n",
       "      <td>...</td>\n",
       "      <td>0</td>\n",
       "      <td>0</td>\n",
       "      <td>0</td>\n",
       "      <td>0</td>\n",
       "      <td>0</td>\n",
       "      <td>0</td>\n",
       "      <td>0</td>\n",
       "      <td>0</td>\n",
       "      <td>0</td>\n",
       "      <td>0</td>\n",
       "    </tr>\n",
       "    <tr>\n",
       "      <th>1</th>\n",
       "      <td>0</td>\n",
       "      <td>0.0</td>\n",
       "      <td>0.0</td>\n",
       "      <td>0.0</td>\n",
       "      <td>0</td>\n",
       "      <td>True</td>\n",
       "      <td>True</td>\n",
       "      <td>True</td>\n",
       "      <td>True</td>\n",
       "      <td>0</td>\n",
       "      <td>...</td>\n",
       "      <td>0</td>\n",
       "      <td>0</td>\n",
       "      <td>0</td>\n",
       "      <td>0</td>\n",
       "      <td>0</td>\n",
       "      <td>0</td>\n",
       "      <td>0</td>\n",
       "      <td>0</td>\n",
       "      <td>0</td>\n",
       "      <td>0</td>\n",
       "    </tr>\n",
       "    <tr>\n",
       "      <th>2</th>\n",
       "      <td>True</td>\n",
       "      <td>16384.0</td>\n",
       "      <td>128.0</td>\n",
       "      <td>512.0</td>\n",
       "      <td>True</td>\n",
       "      <td>True</td>\n",
       "      <td>True</td>\n",
       "      <td>True</td>\n",
       "      <td>True</td>\n",
       "      <td>True</td>\n",
       "      <td>...</td>\n",
       "      <td>0</td>\n",
       "      <td>0</td>\n",
       "      <td>0</td>\n",
       "      <td>0</td>\n",
       "      <td>0</td>\n",
       "      <td>0</td>\n",
       "      <td>0</td>\n",
       "      <td>0</td>\n",
       "      <td>0</td>\n",
       "      <td>0</td>\n",
       "    </tr>\n",
       "    <tr>\n",
       "      <th>3</th>\n",
       "      <td>0</td>\n",
       "      <td>0.0</td>\n",
       "      <td>0.0</td>\n",
       "      <td>0.0</td>\n",
       "      <td>0</td>\n",
       "      <td>True</td>\n",
       "      <td>True</td>\n",
       "      <td>True</td>\n",
       "      <td>True</td>\n",
       "      <td>0</td>\n",
       "      <td>...</td>\n",
       "      <td>0</td>\n",
       "      <td>0</td>\n",
       "      <td>0</td>\n",
       "      <td>0</td>\n",
       "      <td>0</td>\n",
       "      <td>0</td>\n",
       "      <td>0</td>\n",
       "      <td>0</td>\n",
       "      <td>0</td>\n",
       "      <td>0</td>\n",
       "    </tr>\n",
       "    <tr>\n",
       "      <th>4</th>\n",
       "      <td>True</td>\n",
       "      <td>16384.0</td>\n",
       "      <td>124.0</td>\n",
       "      <td>512.0</td>\n",
       "      <td>True</td>\n",
       "      <td>True</td>\n",
       "      <td>True</td>\n",
       "      <td>True</td>\n",
       "      <td>True</td>\n",
       "      <td>True</td>\n",
       "      <td>...</td>\n",
       "      <td>0</td>\n",
       "      <td>0</td>\n",
       "      <td>0</td>\n",
       "      <td>0</td>\n",
       "      <td>0</td>\n",
       "      <td>0</td>\n",
       "      <td>0</td>\n",
       "      <td>0</td>\n",
       "      <td>0</td>\n",
       "      <td>0</td>\n",
       "    </tr>\n",
       "  </tbody>\n",
       "</table>\n",
       "<p>5 rows × 45 columns</p>\n",
       "</div>"
      ],
      "text/plain": [
       "  .rsrc  .rsrcvAddress  .rsrcvSize  .rsrcrSize KERNEL32.DLL  MSVCRT.dll  \\\n",
       "0  True        16384.0       124.0       512.0         True        True   \n",
       "1     0            0.0         0.0         0.0            0        True   \n",
       "2  True        16384.0       128.0       512.0         True        True   \n",
       "3     0            0.0         0.0         0.0            0        True   \n",
       "4  True        16384.0       124.0       512.0         True        True   \n",
       "\n",
       "  SHELL32.dll USER32.dll  WS2_32.dll htons  ... shutdown htonl  ntohl select  \\\n",
       "0        True       True        True  True  ...        0     0      0      0   \n",
       "1        True       True        True     0  ...        0     0      0      0   \n",
       "2        True       True        True  True  ...        0     0      0      0   \n",
       "3        True       True        True     0  ...        0     0      0      0   \n",
       "4        True       True        True  True  ...        0     0      0      0   \n",
       "\n",
       "  WSACleanup WSAGetLastError PSAPI.DLL listen  bind  accept  \n",
       "0          0               0         0      0     0       0  \n",
       "1          0               0         0      0     0       0  \n",
       "2          0               0         0      0     0       0  \n",
       "3          0               0         0      0     0       0  \n",
       "4          0               0         0      0     0       0  \n",
       "\n",
       "[5 rows x 45 columns]"
      ]
     },
     "execution_count": 150,
     "metadata": {},
     "output_type": "execute_result"
    }
   ],
   "source": [
    "# change the NaN values to 0\n",
    "df = df.fillna(0)\n",
    "print(df.shape)\n",
    "df.head()"
   ]
  },
  {
   "cell_type": "code",
   "execution_count": 151,
   "metadata": {},
   "outputs": [
    {
     "data": {
      "text/html": [
       "<div>\n",
       "<style scoped>\n",
       "    .dataframe tbody tr th:only-of-type {\n",
       "        vertical-align: middle;\n",
       "    }\n",
       "\n",
       "    .dataframe tbody tr th {\n",
       "        vertical-align: top;\n",
       "    }\n",
       "\n",
       "    .dataframe thead th {\n",
       "        text-align: right;\n",
       "    }\n",
       "</style>\n",
       "<table border=\"1\" class=\"dataframe\">\n",
       "  <thead>\n",
       "    <tr style=\"text-align: right;\">\n",
       "      <th></th>\n",
       "      <th>.rsrc</th>\n",
       "      <th>.rsrcvAddress</th>\n",
       "      <th>.rsrcvSize</th>\n",
       "      <th>.rsrcrSize</th>\n",
       "      <th>KERNEL32.DLL</th>\n",
       "      <th>MSVCRT.dll</th>\n",
       "      <th>SHELL32.dll</th>\n",
       "      <th>USER32.dll</th>\n",
       "      <th>WS2_32.dll</th>\n",
       "      <th>htons</th>\n",
       "      <th>...</th>\n",
       "      <th>shutdown</th>\n",
       "      <th>htonl</th>\n",
       "      <th>ntohl</th>\n",
       "      <th>select</th>\n",
       "      <th>WSACleanup</th>\n",
       "      <th>WSAGetLastError</th>\n",
       "      <th>PSAPI.DLL</th>\n",
       "      <th>listen</th>\n",
       "      <th>bind</th>\n",
       "      <th>accept</th>\n",
       "    </tr>\n",
       "  </thead>\n",
       "  <tbody>\n",
       "    <tr>\n",
       "      <th>0</th>\n",
       "      <td>1</td>\n",
       "      <td>16384.0</td>\n",
       "      <td>124.0</td>\n",
       "      <td>512.0</td>\n",
       "      <td>1</td>\n",
       "      <td>1</td>\n",
       "      <td>1</td>\n",
       "      <td>1</td>\n",
       "      <td>1</td>\n",
       "      <td>1</td>\n",
       "      <td>...</td>\n",
       "      <td>0</td>\n",
       "      <td>0</td>\n",
       "      <td>0</td>\n",
       "      <td>0</td>\n",
       "      <td>0</td>\n",
       "      <td>0</td>\n",
       "      <td>0</td>\n",
       "      <td>0</td>\n",
       "      <td>0</td>\n",
       "      <td>0</td>\n",
       "    </tr>\n",
       "    <tr>\n",
       "      <th>1</th>\n",
       "      <td>0</td>\n",
       "      <td>0.0</td>\n",
       "      <td>0.0</td>\n",
       "      <td>0.0</td>\n",
       "      <td>0</td>\n",
       "      <td>1</td>\n",
       "      <td>1</td>\n",
       "      <td>1</td>\n",
       "      <td>1</td>\n",
       "      <td>0</td>\n",
       "      <td>...</td>\n",
       "      <td>0</td>\n",
       "      <td>0</td>\n",
       "      <td>0</td>\n",
       "      <td>0</td>\n",
       "      <td>0</td>\n",
       "      <td>0</td>\n",
       "      <td>0</td>\n",
       "      <td>0</td>\n",
       "      <td>0</td>\n",
       "      <td>0</td>\n",
       "    </tr>\n",
       "    <tr>\n",
       "      <th>2</th>\n",
       "      <td>1</td>\n",
       "      <td>16384.0</td>\n",
       "      <td>128.0</td>\n",
       "      <td>512.0</td>\n",
       "      <td>1</td>\n",
       "      <td>1</td>\n",
       "      <td>1</td>\n",
       "      <td>1</td>\n",
       "      <td>1</td>\n",
       "      <td>1</td>\n",
       "      <td>...</td>\n",
       "      <td>0</td>\n",
       "      <td>0</td>\n",
       "      <td>0</td>\n",
       "      <td>0</td>\n",
       "      <td>0</td>\n",
       "      <td>0</td>\n",
       "      <td>0</td>\n",
       "      <td>0</td>\n",
       "      <td>0</td>\n",
       "      <td>0</td>\n",
       "    </tr>\n",
       "    <tr>\n",
       "      <th>3</th>\n",
       "      <td>0</td>\n",
       "      <td>0.0</td>\n",
       "      <td>0.0</td>\n",
       "      <td>0.0</td>\n",
       "      <td>0</td>\n",
       "      <td>1</td>\n",
       "      <td>1</td>\n",
       "      <td>1</td>\n",
       "      <td>1</td>\n",
       "      <td>0</td>\n",
       "      <td>...</td>\n",
       "      <td>0</td>\n",
       "      <td>0</td>\n",
       "      <td>0</td>\n",
       "      <td>0</td>\n",
       "      <td>0</td>\n",
       "      <td>0</td>\n",
       "      <td>0</td>\n",
       "      <td>0</td>\n",
       "      <td>0</td>\n",
       "      <td>0</td>\n",
       "    </tr>\n",
       "    <tr>\n",
       "      <th>4</th>\n",
       "      <td>1</td>\n",
       "      <td>16384.0</td>\n",
       "      <td>124.0</td>\n",
       "      <td>512.0</td>\n",
       "      <td>1</td>\n",
       "      <td>1</td>\n",
       "      <td>1</td>\n",
       "      <td>1</td>\n",
       "      <td>1</td>\n",
       "      <td>1</td>\n",
       "      <td>...</td>\n",
       "      <td>0</td>\n",
       "      <td>0</td>\n",
       "      <td>0</td>\n",
       "      <td>0</td>\n",
       "      <td>0</td>\n",
       "      <td>0</td>\n",
       "      <td>0</td>\n",
       "      <td>0</td>\n",
       "      <td>0</td>\n",
       "      <td>0</td>\n",
       "    </tr>\n",
       "  </tbody>\n",
       "</table>\n",
       "<p>5 rows × 45 columns</p>\n",
       "</div>"
      ],
      "text/plain": [
       "   .rsrc  .rsrcvAddress  .rsrcvSize  .rsrcrSize  KERNEL32.DLL  MSVCRT.dll  \\\n",
       "0      1        16384.0       124.0       512.0             1           1   \n",
       "1      0            0.0         0.0         0.0             0           1   \n",
       "2      1        16384.0       128.0       512.0             1           1   \n",
       "3      0            0.0         0.0         0.0             0           1   \n",
       "4      1        16384.0       124.0       512.0             1           1   \n",
       "\n",
       "   SHELL32.dll  USER32.dll  WS2_32.dll  htons  ...  shutdown  htonl  ntohl  \\\n",
       "0            1           1           1      1  ...         0      0      0   \n",
       "1            1           1           1      0  ...         0      0      0   \n",
       "2            1           1           1      1  ...         0      0      0   \n",
       "3            1           1           1      0  ...         0      0      0   \n",
       "4            1           1           1      1  ...         0      0      0   \n",
       "\n",
       "   select  WSACleanup  WSAGetLastError  PSAPI.DLL  listen  bind  accept  \n",
       "0       0           0                0          0       0     0       0  \n",
       "1       0           0                0          0       0     0       0  \n",
       "2       0           0                0          0       0     0       0  \n",
       "3       0           0                0          0       0     0       0  \n",
       "4       0           0                0          0       0     0       0  \n",
       "\n",
       "[5 rows x 45 columns]"
      ]
     },
     "execution_count": 151,
     "metadata": {},
     "output_type": "execute_result"
    }
   ],
   "source": [
    "# change the false values to 0 and the true values to 1\n",
    "for i in df.keys():\n",
    "    df[i] = df[i].replace(to_replace = False, value = 0)\n",
    "    df[i] = df[i].replace(to_replace = True, value = 1)\n",
    "\n",
    "df.head()"
   ]
  },
  {
   "cell_type": "code",
   "execution_count": 152,
   "metadata": {},
   "outputs": [
    {
     "data": {
      "text/plain": [
       "<bound method DataFrame.value_counts of     .rsrc  .rsrcvAddress  .rsrcvSize  .rsrcrSize  KERNEL32.DLL  MSVCRT.dll  \\\n",
       "0       1        16384.0       124.0       512.0             1           1   \n",
       "1       0            0.0         0.0         0.0             0           1   \n",
       "2       1        16384.0       128.0       512.0             1           1   \n",
       "3       0            0.0         0.0         0.0             0           1   \n",
       "4       1        16384.0       124.0       512.0             1           1   \n",
       "5       1        16384.0       124.0       512.0             1           1   \n",
       "6       0            0.0         0.0         0.0             0           1   \n",
       "7       0            0.0         0.0         0.0             1           1   \n",
       "8       1        16384.0       132.0       512.0             1           1   \n",
       "9       1      2031616.0       912.0      1024.0             1           1   \n",
       "10      1        16384.0       124.0       512.0             1           1   \n",
       "11      0            0.0         0.0         0.0             1           1   \n",
       "12      0            0.0         0.0         0.0             0           1   \n",
       "13      0            0.0         0.0         0.0             1           1   \n",
       "14      0            0.0         0.0         0.0             0           1   \n",
       "15      1      2031616.0       912.0      1024.0             1           1   \n",
       "16      1        16384.0       124.0       512.0             1           1   \n",
       "17      1      4030464.0      1032.0      1536.0             0           1   \n",
       "18      1        16384.0       128.0       512.0             1           1   \n",
       "19      1      2031616.0       912.0      1024.0             1           1   \n",
       "20      0            0.0         0.0         0.0             1           1   \n",
       "21      1        16384.0       128.0       512.0             1           1   \n",
       "22      1        16384.0       128.0       512.0             1           1   \n",
       "23      1        16384.0       124.0       512.0             1           1   \n",
       "24      1        16384.0       124.0       512.0             1           1   \n",
       "25      1        16384.0       132.0       512.0             1           1   \n",
       "26      1        16384.0       128.0       512.0             1           1   \n",
       "27      0            0.0         0.0         0.0             1           1   \n",
       "28      0            0.0         0.0         0.0             1           1   \n",
       "29      1        16384.0       128.0       512.0             1           1   \n",
       "30      0            0.0         0.0         0.0             0           1   \n",
       "31      1        16384.0       124.0       512.0             1           1   \n",
       "32      0            0.0         0.0         0.0             0           1   \n",
       "33      1        16384.0       124.0       512.0             1           1   \n",
       "34      1        16384.0       128.0       512.0             1           1   \n",
       "35      0            0.0         0.0         0.0             1           1   \n",
       "36      1        16384.0       124.0       512.0             1           1   \n",
       "37      1        16384.0       128.0       512.0             1           1   \n",
       "38      0            0.0         0.0         0.0             1           1   \n",
       "39      1        16384.0       132.0       512.0             1           1   \n",
       "\n",
       "    SHELL32.dll  USER32.dll  WS2_32.dll  htons  ...  shutdown  htonl  ntohl  \\\n",
       "0             1           1           1      1  ...         0      0      0   \n",
       "1             1           1           1      0  ...         0      0      0   \n",
       "2             1           1           1      1  ...         0      0      0   \n",
       "3             1           1           1      0  ...         0      0      0   \n",
       "4             1           1           1      1  ...         0      0      0   \n",
       "5             1           1           1      1  ...         0      0      0   \n",
       "6             1           1           1      0  ...         0      0      0   \n",
       "7             0           1           1      1  ...         1      1      1   \n",
       "8             1           1           1      1  ...         0      0      0   \n",
       "9             1           0           1      0  ...         0      0      0   \n",
       "10            1           1           1      1  ...         0      0      0   \n",
       "11            0           1           1      1  ...         1      1      1   \n",
       "12            1           1           1      0  ...         0      0      0   \n",
       "13            0           1           1      1  ...         1      1      1   \n",
       "14            1           1           1      0  ...         0      0      0   \n",
       "15            1           0           1      0  ...         0      0      0   \n",
       "16            0           1           1      1  ...         0      0      0   \n",
       "17            0           1           1      0  ...         0      0      0   \n",
       "18            1           1           1      1  ...         0      0      0   \n",
       "19            1           0           1      0  ...         0      0      0   \n",
       "20            0           1           1      1  ...         1      1      1   \n",
       "21            1           1           1      1  ...         0      0      0   \n",
       "22            0           1           1      1  ...         0      0      0   \n",
       "23            1           1           1      1  ...         0      0      0   \n",
       "24            1           1           1      1  ...         0      0      0   \n",
       "25            1           1           1      1  ...         0      0      0   \n",
       "26            1           1           1      1  ...         0      0      0   \n",
       "27            0           1           1      1  ...         1      1      1   \n",
       "28            0           1           1      1  ...         1      1      1   \n",
       "29            1           1           1      1  ...         0      0      0   \n",
       "30            1           1           1      0  ...         0      0      0   \n",
       "31            1           1           1      1  ...         0      0      0   \n",
       "32            1           1           1      0  ...         0      0      0   \n",
       "33            0           1           1      1  ...         0      0      0   \n",
       "34            0           1           1      1  ...         0      0      0   \n",
       "35            0           1           1      1  ...         1      1      1   \n",
       "36            0           1           1      1  ...         0      0      0   \n",
       "37            1           1           1      1  ...         0      0      0   \n",
       "38            0           1           1      1  ...         1      1      1   \n",
       "39            0           1           1      1  ...         0      0      0   \n",
       "\n",
       "    select  WSACleanup  WSAGetLastError  PSAPI.DLL  listen  bind  accept  \n",
       "0        0           0                0          0       0     0       0  \n",
       "1        0           0                0          0       0     0       0  \n",
       "2        0           0                0          0       0     0       0  \n",
       "3        0           0                0          0       0     0       0  \n",
       "4        0           0                0          0       0     0       0  \n",
       "5        0           0                0          0       0     0       0  \n",
       "6        0           0                0          0       0     0       0  \n",
       "7        1           1                1          0       0     0       0  \n",
       "8        0           0                0          0       0     0       0  \n",
       "9        0           0                0          0       0     0       0  \n",
       "10       0           0                0          0       0     0       0  \n",
       "11       1           1                1          0       0     0       0  \n",
       "12       0           0                0          0       0     0       0  \n",
       "13       1           1                1          1       1     1       1  \n",
       "14       0           0                0          0       0     0       0  \n",
       "15       0           0                0          0       0     0       0  \n",
       "16       0           0                0          0       0     0       0  \n",
       "17       0           0                0          0       0     0       0  \n",
       "18       0           0                0          0       0     0       0  \n",
       "19       0           0                0          0       0     0       0  \n",
       "20       1           1                1          0       0     0       0  \n",
       "21       0           0                0          0       0     0       0  \n",
       "22       0           0                0          0       0     0       0  \n",
       "23       0           0                0          0       0     0       0  \n",
       "24       0           0                0          0       0     0       0  \n",
       "25       0           0                0          0       0     0       0  \n",
       "26       0           0                0          0       0     0       0  \n",
       "27       1           1                1          1       0     0       0  \n",
       "28       1           1                1          1       0     0       0  \n",
       "29       0           0                0          0       0     0       0  \n",
       "30       0           0                0          0       0     0       0  \n",
       "31       0           0                0          0       0     0       0  \n",
       "32       0           0                0          0       0     0       0  \n",
       "33       0           0                0          0       0     0       0  \n",
       "34       0           0                0          0       0     0       0  \n",
       "35       1           1                1          1       1     1       1  \n",
       "36       0           0                0          0       0     0       0  \n",
       "37       0           0                0          0       0     0       0  \n",
       "38       1           1                1          1       0     0       0  \n",
       "39       0           0                0          0       0     0       0  \n",
       "\n",
       "[40 rows x 45 columns]>"
      ]
     },
     "execution_count": 152,
     "metadata": {},
     "output_type": "execute_result"
    }
   ],
   "source": [
    "df.value_counts"
   ]
  },
  {
   "cell_type": "code",
   "execution_count": 153,
   "metadata": {},
   "outputs": [
    {
     "data": {
      "image/png": "[encoded data removed]",
      "text/plain": [
       "<Figure size 1000x1000 with 2 Axes>"
      ]
     },
     "metadata": {},
     "output_type": "display_data"
    }
   ],
   "source": [
    "# make the correlation matrix\n",
    "corr = df.corr()\n",
    "#Visualize\n",
    "plt.figure(figsize=(10,10))\n",
    "sns.heatmap(corr, cmap='coolwarm', linewidths=0.2)\n",
    "fig=plt.gcf()"
   ]
  },
  {
   "cell_type": "code",
   "execution_count": 154,
   "metadata": {},
   "outputs": [
    {
     "data": {
      "text/plain": [
       ".rsrc                int64\n",
       ".rsrcvAddress      float64\n",
       ".rsrcvSize         float64\n",
       ".rsrcrSize         float64\n",
       "KERNEL32.DLL         int64\n",
       "MSVCRT.dll           int64\n",
       "SHELL32.dll          int64\n",
       "USER32.dll           int64\n",
       "WS2_32.dll           int64\n",
       "htons                int64\n",
       "connect              int64\n",
       "socket               int64\n",
       "WSAStartup           int64\n",
       "send                 int64\n",
       "inet_addr            int64\n",
       "recv                 int64\n",
       "closesocket          int64\n",
       ".data                int64\n",
       ".datavAddress      float64\n",
       ".datavSize         float64\n",
       ".datarSize         float64\n",
       "KERNEL32.dll         int64\n",
       "ADVAPI32.dll         int64\n",
       "WININET.dll          int64\n",
       "gethostbyname        int64\n",
       "inet_ntoa            int64\n",
       "gethostname          int64\n",
       ".reloc               int64\n",
       ".relocvAddress     float64\n",
       ".relocvSize        float64\n",
       ".relocrSize        float64\n",
       "GDI32.dll            int64\n",
       "NETAPI32.dll         int64\n",
       "ntdll.dll            int64\n",
       "WSASetLastError      int64\n",
       "shutdown             int64\n",
       "htonl                int64\n",
       "ntohl                int64\n",
       "select               int64\n",
       "WSACleanup           int64\n",
       "WSAGetLastError      int64\n",
       "PSAPI.DLL            int64\n",
       "listen               int64\n",
       "bind                 int64\n",
       "accept               int64\n",
       "dtype: object"
      ]
     },
     "execution_count": 154,
     "metadata": {},
     "output_type": "execute_result"
    }
   ],
   "source": [
    "df.dtypes"
   ]
  },
  {
   "cell_type": "code",
   "execution_count": 155,
   "metadata": {},
   "outputs": [
    {
     "data": {
      "text/plain": [
       "array([[ 0.77459667, -0.30495096, -0.13714523, ..., -0.22941573,\n",
       "        -0.22941573, -0.22941573],\n",
       "       [-1.29099445, -0.32531497, -0.60052422, ..., -0.22941573,\n",
       "        -0.22941573, -0.22941573],\n",
       "       [ 0.77459667, -0.30495096, -0.12219752, ..., -0.22941573,\n",
       "        -0.22941573, -0.22941573],\n",
       "       ...,\n",
       "       [ 0.77459667, -0.30495096, -0.12219752, ..., -0.22941573,\n",
       "        -0.22941573, -0.22941573],\n",
       "       [-1.29099445, -0.32531497, -0.60052422, ..., -0.22941573,\n",
       "        -0.22941573, -0.22941573],\n",
       "       [ 0.77459667, -0.30495096, -0.10724981, ..., -0.22941573,\n",
       "        -0.22941573, -0.22941573]])"
      ]
     },
     "execution_count": 155,
     "metadata": {},
     "output_type": "execute_result"
    }
   ],
   "source": [
    "standar = StandardScaler()\n",
    "scaler_data = standar.fit_transform(df)\n",
    "scaler_data"
   ]
  },
  {
   "attachments": {},
   "cell_type": "markdown",
   "metadata": {},
   "source": [
    "### MEtodo del codo"
   ]
  },
  {
   "cell_type": "code",
   "execution_count": 156,
   "metadata": {},
   "outputs": [],
   "source": [
    "kmeans = KMeans(\n",
    "    init = \"random\",\n",
    "    n_clusters = 4,\n",
    "    n_init = 1,\n",
    "    max_iter = 200,\n",
    "    random_state = 123\n",
    ")"
   ]
  },
  {
   "cell_type": "code",
   "execution_count": 157,
   "metadata": {},
   "outputs": [
    {
     "data": {
      "text/html": [
       "<style>#sk-container-id-6 {color: black;background-color: white;}#sk-container-id-6 pre{padding: 0;}#sk-container-id-6 div.sk-toggleable {background-color: white;}#sk-container-id-6 label.sk-toggleable__label {cursor: pointer;display: block;width: 100%;margin-bottom: 0;padding: 0.3em;box-sizing: border-box;text-align: center;}#sk-container-id-6 label.sk-toggleable__label-arrow:before {content: \"▸\";float: left;margin-right: 0.25em;color: #696969;}#sk-container-id-6 label.sk-toggleable__label-arrow:hover:before {color: black;}#sk-container-id-6 div.sk-estimator:hover label.sk-toggleable__label-arrow:before {color: black;}#sk-container-id-6 div.sk-toggleable__content {max-height: 0;max-width: 0;overflow: hidden;text-align: left;background-color: #f0f8ff;}#sk-container-id-6 div.sk-toggleable__content pre {margin: 0.2em;color: black;border-radius: 0.25em;background-color: #f0f8ff;}#sk-container-id-6 input.sk-toggleable__control:checked~div.sk-toggleable__content {max-height: 200px;max-width: 100%;overflow: auto;}#sk-container-id-6 input.sk-toggleable__control:checked~label.sk-toggleable__label-arrow:before {content: \"▾\";}#sk-container-id-6 div.sk-estimator input.sk-toggleable__control:checked~label.sk-toggleable__label {background-color: #d4ebff;}#sk-container-id-6 div.sk-label input.sk-toggleable__control:checked~label.sk-toggleable__label {background-color: #d4ebff;}#sk-container-id-6 input.sk-hidden--visually {border: 0;clip: rect(1px 1px 1px 1px);clip: rect(1px, 1px, 1px, 1px);height: 1px;margin: -1px;overflow: hidden;padding: 0;position: absolute;width: 1px;}#sk-container-id-6 div.sk-estimator {font-family: monospace;background-color: #f0f8ff;border: 1px dotted black;border-radius: 0.25em;box-sizing: border-box;margin-bottom: 0.5em;}#sk-container-id-6 div.sk-estimator:hover {background-color: #d4ebff;}#sk-container-id-6 div.sk-parallel-item::after {content: \"\";width: 100%;border-bottom: 1px solid gray;flex-grow: 1;}#sk-container-id-6 div.sk-label:hover label.sk-toggleable__label {background-color: #d4ebff;}#sk-container-id-6 div.sk-serial::before {content: \"\";position: absolute;border-left: 1px solid gray;box-sizing: border-box;top: 0;bottom: 0;left: 50%;z-index: 0;}#sk-container-id-6 div.sk-serial {display: flex;flex-direction: column;align-items: center;background-color: white;padding-right: 0.2em;padding-left: 0.2em;position: relative;}#sk-container-id-6 div.sk-item {position: relative;z-index: 1;}#sk-container-id-6 div.sk-parallel {display: flex;align-items: stretch;justify-content: center;background-color: white;position: relative;}#sk-container-id-6 div.sk-item::before, #sk-container-id-6 div.sk-parallel-item::before {content: \"\";position: absolute;border-left: 1px solid gray;box-sizing: border-box;top: 0;bottom: 0;left: 50%;z-index: -1;}#sk-container-id-6 div.sk-parallel-item {display: flex;flex-direction: column;z-index: 1;position: relative;background-color: white;}#sk-container-id-6 div.sk-parallel-item:first-child::after {align-self: flex-end;width: 50%;}#sk-container-id-6 div.sk-parallel-item:last-child::after {align-self: flex-start;width: 50%;}#sk-container-id-6 div.sk-parallel-item:only-child::after {width: 0;}#sk-container-id-6 div.sk-dashed-wrapped {border: 1px dashed gray;margin: 0 0.4em 0.5em 0.4em;box-sizing: border-box;padding-bottom: 0.4em;background-color: white;}#sk-container-id-6 div.sk-label label {font-family: monospace;font-weight: bold;display: inline-block;line-height: 1.2em;}#sk-container-id-6 div.sk-label-container {text-align: center;}#sk-container-id-6 div.sk-container {/* jupyter's `normalize.less` sets `[hidden] { display: none; }` but bootstrap.min.css set `[hidden] { display: none !important; }` so we also need the `!important` here to be able to override the default hidden behavior on the sphinx rendered scikit-learn.org. See: https://github.com/scikit-learn/scikit-learn/issues/21755 */display: inline-block !important;position: relative;}#sk-container-id-6 div.sk-text-repr-fallback {display: none;}</style><div id=\"sk-container-id-6\" class=\"sk-top-container\"><div class=\"sk-text-repr-fallback\"><pre>KMeans(init=&#x27;random&#x27;, max_iter=200, n_clusters=4, n_init=1, random_state=123)</pre><b>In a Jupyter environment, please rerun this cell to show the HTML representation or trust the notebook. <br />On GitHub, the HTML representation is unable to render, please try loading this page with nbviewer.org.</b></div><div class=\"sk-container\" hidden><div class=\"sk-item\"><div class=\"sk-estimator sk-toggleable\"><input class=\"sk-toggleable__control sk-hidden--visually\" id=\"sk-estimator-id-6\" type=\"checkbox\" checked><label for=\"sk-estimator-id-6\" class=\"sk-toggleable__label sk-toggleable__label-arrow\">KMeans</label><div class=\"sk-toggleable__content\"><pre>KMeans(init=&#x27;random&#x27;, max_iter=200, n_clusters=4, n_init=1, random_state=123)</pre></div></div></div></div></div>"
      ],
      "text/plain": [
       "KMeans(init='random', max_iter=200, n_clusters=4, n_init=1, random_state=123)"
      ]
     },
     "execution_count": 157,
     "metadata": {},
     "output_type": "execute_result"
    }
   ],
   "source": [
    "kmeans.fit(scaler_data)"
   ]
  },
  {
   "cell_type": "code",
   "execution_count": 158,
   "metadata": {},
   "outputs": [
    {
     "data": {
      "text/plain": [
       "322.66004541938406"
      ]
     },
     "execution_count": 158,
     "metadata": {},
     "output_type": "execute_result"
    }
   ],
   "source": [
    "kmeans.inertia_"
   ]
  },
  {
   "cell_type": "code",
   "execution_count": 159,
   "metadata": {},
   "outputs": [
    {
     "data": {
      "text/plain": [
       "array([[-0.53987041,  0.81877181,  0.67954324,  0.09765203, -1.31818182,\n",
       "         0.        ,  0.58681566, -0.75069769,  0.        , -1.62368828,\n",
       "        -1.62368828, -1.62368828,  0.        , -1.62368828, -1.62368828,\n",
       "        -1.62368828, -1.62368828,  0.8922686 , -0.23097711,  1.21345414,\n",
       "        -0.15528073,  1.31818182,  0.66804266,  1.62368828,  1.05131497,\n",
       "         1.62368828,  1.62368828, -0.37796447, -0.37647201, -0.37796126,\n",
       "        -0.37795306, -0.5       , -0.5       , -0.37796447, -0.5       ,\n",
       "        -0.5       , -0.5       , -0.5       , -0.5       , -0.5       ,\n",
       "        -0.5       , -0.37796447, -0.22941573, -0.22941573, -0.22941573],\n",
       "       [ 0.77459667, -0.30495096, -0.12718009,  0.35805744,  0.5       ,\n",
       "         0.        ,  0.18442778,  0.2847474 ,  0.        ,  0.61588176,\n",
       "         0.61588176,  0.61588176,  0.        ,  0.61588176,  0.61588176,\n",
       "         0.61588176,  0.61588176, -0.57735027, -0.30325425, -0.46259364,\n",
       "        -0.26969811, -0.5       , -0.81649658, -0.61588176, -0.95118973,\n",
       "        -0.61588176, -0.61588176, -0.37796447, -0.37647201, -0.37796126,\n",
       "        -0.37795306, -0.5       , -0.5       , -0.37796447, -0.5       ,\n",
       "        -0.5       , -0.5       , -0.5       , -0.5       , -0.5       ,\n",
       "        -0.5       , -0.37796447, -0.22941573, -0.22941573, -0.22941573],\n",
       "       [-1.29099445, -0.32531497, -0.60052422, -1.07417231,  0.5       ,\n",
       "         0.        , -1.29099445,  0.2847474 ,  0.        ,  0.61588176,\n",
       "         0.61588176,  0.61588176,  0.        ,  0.61588176,  0.61588176,\n",
       "         0.61588176,  0.61588176,  1.73205081,  3.83099849, -0.44706574,\n",
       "         1.46835636, -0.5       ,  1.22474487, -0.61588176,  1.05131497,\n",
       "        -0.61588176, -0.61588176, -0.37796447, -0.37647201, -0.37796126,\n",
       "        -0.37795306,  2.        ,  2.        ,  2.64575131,  2.        ,\n",
       "         2.        ,  2.        ,  2.        ,  2.        ,  2.        ,\n",
       "         2.        ,  2.64575131,  4.35889894,  4.35889894,  4.35889894],\n",
       "       [-1.29099445, -0.32531497, -0.60052422, -1.07417231,  0.5       ,\n",
       "         0.        , -1.29099445,  0.2847474 ,  0.        ,  0.61588176,\n",
       "         0.61588176,  0.61588176,  0.        ,  0.61588176,  0.61588176,\n",
       "         0.61588176,  0.61588176, -0.19245009,  0.20784842, -0.45656626,\n",
       "         0.73917259, -0.5       ,  1.22474487, -0.61588176,  1.05131497,\n",
       "        -0.61588176, -0.61588176,  2.14179868,  2.13334141,  2.14178048,\n",
       "         2.14173402,  2.        ,  2.        ,  1.13389342,  2.        ,\n",
       "         2.        ,  2.        ,  2.        ,  2.        ,  2.        ,\n",
       "         2.        ,  1.13389342, -0.22941573, -0.22941573, -0.22941573]])"
      ]
     },
     "execution_count": 159,
     "metadata": {},
     "output_type": "execute_result"
    }
   ],
   "source": [
    "kmeans.cluster_centers_"
   ]
  },
  {
   "cell_type": "code",
   "execution_count": 160,
   "metadata": {},
   "outputs": [
    {
     "data": {
      "text/plain": [
       "3"
      ]
     },
     "execution_count": 160,
     "metadata": {},
     "output_type": "execute_result"
    }
   ],
   "source": [
    "kmeans.n_iter_"
   ]
  },
  {
   "cell_type": "code",
   "execution_count": 161,
   "metadata": {},
   "outputs": [],
   "source": [
    "y_kmeans = kmeans.predict(scaler_data)"
   ]
  },
  {
   "cell_type": "code",
   "execution_count": 162,
   "metadata": {},
   "outputs": [
    {
     "data": {
      "text/plain": [
       "<matplotlib.collections.PathCollection at 0x2a55f8550>"
      ]
     },
     "execution_count": 162,
     "metadata": {},
     "output_type": "execute_result"
    },
    {
     "data": {
      "image/png": "[encoded data removed]",
      "text/plain": [
       "<Figure size 640x480 with 1 Axes>"
      ]
     },
     "metadata": {},
     "output_type": "display_data"
    }
   ],
   "source": [
    "plt.scatter(scaler_data[:,0], scaler_data[:,1], c=y_kmeans, s=50, cmap='viridis')\n",
    "\n",
    "\n",
    "centers = kmeans.cluster_centers_\n",
    "plt.scatter(centers[:, 0], centers[:, 1], c='red', s=200, alpha=0.5)"
   ]
  },
  {
   "cell_type": "code",
   "execution_count": 163,
   "metadata": {},
   "outputs": [
    {
     "name": "stderr",
     "output_type": "stream",
     "text": [
      "/Users/sebastiangarcia/Documents/GitHub/Lab4-SecDS/env/lib/python3.10/site-packages/sklearn/cluster/_kmeans.py:870: FutureWarning: The default value of `n_init` will change from 10 to 'auto' in 1.4. Set the value of `n_init` explicitly to suppress the warning\n",
      "  warnings.warn(\n",
      "/Users/sebastiangarcia/Documents/GitHub/Lab4-SecDS/env/lib/python3.10/site-packages/sklearn/cluster/_kmeans.py:870: FutureWarning: The default value of `n_init` will change from 10 to 'auto' in 1.4. Set the value of `n_init` explicitly to suppress the warning\n",
      "  warnings.warn(\n",
      "/Users/sebastiangarcia/Documents/GitHub/Lab4-SecDS/env/lib/python3.10/site-packages/sklearn/cluster/_kmeans.py:870: FutureWarning: The default value of `n_init` will change from 10 to 'auto' in 1.4. Set the value of `n_init` explicitly to suppress the warning\n",
      "  warnings.warn(\n",
      "/Users/sebastiangarcia/Documents/GitHub/Lab4-SecDS/env/lib/python3.10/site-packages/sklearn/cluster/_kmeans.py:870: FutureWarning: The default value of `n_init` will change from 10 to 'auto' in 1.4. Set the value of `n_init` explicitly to suppress the warning\n",
      "  warnings.warn(\n",
      "/Users/sebastiangarcia/Documents/GitHub/Lab4-SecDS/env/lib/python3.10/site-packages/sklearn/cluster/_kmeans.py:870: FutureWarning: The default value of `n_init` will change from 10 to 'auto' in 1.4. Set the value of `n_init` explicitly to suppress the warning\n",
      "  warnings.warn(\n",
      "/Users/sebastiangarcia/Documents/GitHub/Lab4-SecDS/env/lib/python3.10/site-packages/sklearn/cluster/_kmeans.py:870: FutureWarning: The default value of `n_init` will change from 10 to 'auto' in 1.4. Set the value of `n_init` explicitly to suppress the warning\n",
      "  warnings.warn(\n",
      "/Users/sebastiangarcia/Documents/GitHub/Lab4-SecDS/env/lib/python3.10/site-packages/sklearn/cluster/_kmeans.py:870: FutureWarning: The default value of `n_init` will change from 10 to 'auto' in 1.4. Set the value of `n_init` explicitly to suppress the warning\n",
      "  warnings.warn(\n",
      "/Users/sebastiangarcia/Documents/GitHub/Lab4-SecDS/env/lib/python3.10/site-packages/sklearn/cluster/_kmeans.py:870: FutureWarning: The default value of `n_init` will change from 10 to 'auto' in 1.4. Set the value of `n_init` explicitly to suppress the warning\n",
      "  warnings.warn(\n",
      "/Users/sebastiangarcia/Documents/GitHub/Lab4-SecDS/env/lib/python3.10/site-packages/sklearn/cluster/_kmeans.py:870: FutureWarning: The default value of `n_init` will change from 10 to 'auto' in 1.4. Set the value of `n_init` explicitly to suppress the warning\n",
      "  warnings.warn(\n",
      "/Users/sebastiangarcia/Documents/GitHub/Lab4-SecDS/env/lib/python3.10/site-packages/sklearn/cluster/_kmeans.py:870: FutureWarning: The default value of `n_init` will change from 10 to 'auto' in 1.4. Set the value of `n_init` explicitly to suppress the warning\n",
      "  warnings.warn(\n"
     ]
    },
    {
     "data": {
      "image/png": "[encoded data removed]",
      "text/plain": [
       "<Figure size 640x480 with 1 Axes>"
      ]
     },
     "metadata": {},
     "output_type": "display_data"
    }
   ],
   "source": [
    "numeroClusters = range(1,11)\n",
    "clust_num = 10\n",
    "wcss = []\n",
    "for i in numeroClusters:\n",
    "    kmeans = cluster.KMeans(n_clusters=i)\n",
    "    kmeans.fit(scaler_data)\n",
    "    wcss.append(kmeans.inertia_)\n",
    "\n",
    "\n",
    "plt.plot(numeroClusters, wcss)\n",
    "plt.xlabel(\"Número de clusters\")\n",
    "plt.ylabel(\"Score\")\n",
    "plt.title(\"Gráfico de Codo\")\n",
    "plt.show()"
   ]
  },
  {
   "attachments": {},
   "cell_type": "markdown",
   "metadata": {},
   "source": [
    "La grafica del codo nos permite intentar ver que cluster se adapta mejor al grupo de datos que tenemos. En este caso podemos ver que el codo se marca mas en el punto 3 y 5. Por lo tanto podemos decir que lel numero de mejor cluster aqui se encuentra en 3 y 5. Pero en este caso la grafica del codo no es muy confiable."
   ]
  },
  {
   "attachments": {},
   "cell_type": "markdown",
   "metadata": {},
   "source": [
    "### Silloute"
   ]
  },
  {
   "cell_type": "code",
   "execution_count": 164,
   "metadata": {},
   "outputs": [
    {
     "data": {
      "text/plain": [
       "[0.5157201087108001,\n",
       " 0.5676674285801169,\n",
       " 0.7428824627953505,\n",
       " 0.7570907898205614,\n",
       " 0.7158247683286036,\n",
       " 0.7686881160849383,\n",
       " 0.8999471088456721,\n",
       " 0.9468553182617667,\n",
       " 0.9103683476033207,\n",
       " 0.7812376015807411,\n",
       " 0.7937376015806914,\n",
       " 0.9249876015805174,\n",
       " 0.874999877629549,\n",
       " 0.85]"
      ]
     },
     "execution_count": 164,
     "metadata": {},
     "output_type": "execute_result"
    }
   ],
   "source": [
    "silh = []\n",
    "kmax = 15\n",
    "\n",
    "for k in range (2, kmax + 1):\n",
    "  kmeans = KMeans(\n",
    "        init = \"random\",\n",
    "        n_clusters = k,\n",
    "        n_init = 1,\n",
    "        max_iter = 200,\n",
    "        random_state = 123\n",
    "    ).fit(scaler_data)\n",
    "  etiquetas = kmeans.labels_\n",
    "  silh.append(silhouette_score(scaler_data, etiquetas, metric = 'euclidean'))\n",
    "\n",
    "silh"
   ]
  },
  {
   "cell_type": "code",
   "execution_count": 165,
   "metadata": {},
   "outputs": [
    {
     "data": {
      "image/png": "[encoded data removed]",
      "text/plain": [
       "<Figure size 640x480 with 1 Axes>"
      ]
     },
     "metadata": {},
     "output_type": "display_data"
    }
   ],
   "source": [
    "# do the silhouette graph\n",
    "k = list(range(14))\n",
    "plt.scatter(k, silh)\n",
    "plt.title('Silhouette coefficient')\n",
    "plt.xticks(k, k)\n",
    "plt.show()"
   ]
  },
  {
   "attachments": {},
   "cell_type": "markdown",
   "metadata": {},
   "source": [
    "El mayor numero que podemos ver en la grafica de silhouette es el 7. Por lo tanto nos dice que existen 7 familias distintas de malwares."
   ]
  },
  {
   "attachments": {},
   "cell_type": "markdown",
   "metadata": {},
   "source": [
    "### Jaccard"
   ]
  },
  {
   "cell_type": "code",
   "execution_count": 166,
   "metadata": {},
   "outputs": [
    {
     "name": "stdout",
     "output_type": "stream",
     "text": [
      "Extracted 144 attributes from ./MALWR/JH78C0A33A1B472A8C16123FD696A5CE5EBB ...\n",
      "Extracted 144 attributes from ./MALWR/NBV_8B75BCBFF174C25A0161F30758509A44 ...\n",
      "Extracted 246 attributes from ./MALWR/POL55_A4F1ECC4D25B33395196B5D51A06790 ...\n",
      "Extracted 144 attributes from ./MALWR/6FAA4740F99408D4D2DDDD0B09BBDEFD ...\n",
      "Extracted 144 attributes from ./MALWR/A316D5AECA269CA865077E7FFF356E7D ...\n",
      "Extracted 144 attributes from ./MALWR/650A6FCA433EE243391E4B4C11F09438 ...\n",
      "Extracted 7155 attributes from ./MALWR/QW2_4C6BDDCCA2695D6202DF38708E14FC7E ...\n",
      "Extracted 20 attributes from ./MALWR/.DS_Store ...\n",
      "Extracted 8202 attributes from ./MALWR/AAAz2E1B6940985A23E5639450F8391820655 ...\n",
      "Extracted 286 attributes from ./MALWR/RTC_7F85D7F628CE62D1D8F7B39D8940472 ...\n",
      "Extracted 120 attributes from ./MALWR/1F2EB7B090018D975E6D9B40868C94CA ...\n",
      "Extracted 120 attributes from ./MALWR/B07322743778B5868475DBE66EEDAC4F ...\n",
      "Extracted 8220 attributes from ./MALWR/PL98_BD8B082B7711BC980252F988BB0CA936 ...\n",
      "Extracted 246 attributes from ./MALWR/DS22_A670D13D4D014169C4080328B8FEB86 ...\n",
      "Extracted 251 attributes from ./MALWR/GBV66_8F259BB36E00D124963CFA9B86F502E ...\n",
      "Extracted 144 attributes from ./MALWR/65018CD542145A3792BA09985734C12A ...\n",
      "Extracted 144 attributes from ./MALWR/33DE5067A433A6EC5C328067DC18EC37 ...\n",
      "Extracted 7537 attributes from ./MALWR/VC990_468FF2C12CFFC7E5B2FE0EE6BB3B239E ...\n",
      "Extracted 286 attributes from ./MALWR/VBMM9_149B7BD7218AAB4E257D28469FDDB0D ...\n",
      "Extracted 144 attributes from ./MALWR/JKK8CA6FE7A1315AF5AFEAC2961460A80569 ...\n",
      "Extracted 246 attributes from ./MALWR/K99_C3A9A7B026BFE0E55FF219FD6AA7D94 ...\n",
      "Extracted 144 attributes from ./MALWR/BVJ2D9FBF759F527AF373E34673DC3ACA462 ...\n",
      "Extracted 144 attributes from ./MALWR/FHHH6576C196385407B0F7F4B1B537D88983 ...\n",
      "Extracted 8220 attributes from ./MALWR/AL65_DB05DF0498B59B42A8E493CF3C10C578 ...\n",
      "Extracted 6500 attributes from ./MALWR/B98hX8E8622C393D7E832D39E620EAD5D3B49 ...\n",
      "Extracted 144 attributes from ./MALWR/FGJKJJ1_2BA0D0083976A5C1E3315413CDCFFCD2 ...\n",
      "Extracted 144 attributes from ./MALWR/99A39866A657A10949FCB6D634BB30D5 ...\n",
      "Extracted 144 attributes from ./MALWR/HJGQDD892986B2249B5214639ECC8AC0223 ...\n",
      "Extracted 144 attributes from ./MALWR/785003A405BC7A4EBCBB21DDB757BF3F ...\n",
      "Extracted 245 attributes from ./MALWR/NV99_C9C9DBF388A8D81D8CFB4D3FC05F8E4 ...\n",
      "Extracted 120 attributes from ./MALWR/F6655E39465C2FF5B016980D918EA028 ...\n",
      "Extracted 144 attributes from ./MALWR/F8437E44748D2C3FCF84019766F4E6DC ...\n",
      "Extracted 120 attributes from ./MALWR/8442AE37B91F279A9F06DE4C60B286A3 ...\n",
      "Extracted 7183 attributes from ./MALWR/FGTR43_EF8E0FB20E7228C7492CCDC59D87C690 ...\n",
      "Extracted 249 attributes from ./MALWR/SAM_B659D71AE168E774FAAF38DB30F4A84 ...\n",
      "Extracted 286 attributes from ./MALWR/L11_1415EB8519D13328091CC5C76A624E3D ...\n",
      "Extracted 120 attributes from ./MALWR/FTTR9EA3C16194CE354C244C1B74C46CD92E ...\n",
      "Extracted 7537 attributes from ./MALWR/TG78Z__727A6800991EEAD454E53E8AF164A99C ...\n",
      "Extracted 120 attributes from ./MALWR/EEE99EC8AA67B05407C01094184C33D2B5A44 ...\n",
      "Extracted 245 attributes from ./MALWR/KLp90_6D5C8FC4B14559F73B6136D85B94198 ...\n",
      "Extracted 254 attributes from ./MALWR/GFT4_7DDD3D72EAD03C7518F5D47650C8572 ...\n",
      "./MALWR/JH78C0A33A1B472A8C16123FD696A5CE5EBB ./MALWR/NBV_8B75BCBFF174C25A0161F30758509A44 1.0\n",
      "./MALWR/JH78C0A33A1B472A8C16123FD696A5CE5EBB ./MALWR/6FAA4740F99408D4D2DDDD0B09BBDEFD 1.0\n",
      "./MALWR/JH78C0A33A1B472A8C16123FD696A5CE5EBB ./MALWR/A316D5AECA269CA865077E7FFF356E7D 1.0\n",
      "./MALWR/JH78C0A33A1B472A8C16123FD696A5CE5EBB ./MALWR/650A6FCA433EE243391E4B4C11F09438 1.0\n",
      "./MALWR/JH78C0A33A1B472A8C16123FD696A5CE5EBB ./MALWR/65018CD542145A3792BA09985734C12A 0.8580645161290322\n",
      "./MALWR/JH78C0A33A1B472A8C16123FD696A5CE5EBB ./MALWR/33DE5067A433A6EC5C328067DC18EC37 0.8580645161290322\n",
      "./MALWR/JH78C0A33A1B472A8C16123FD696A5CE5EBB ./MALWR/JKK8CA6FE7A1315AF5AFEAC2961460A80569 1.0\n",
      "./MALWR/JH78C0A33A1B472A8C16123FD696A5CE5EBB ./MALWR/BVJ2D9FBF759F527AF373E34673DC3ACA462 1.0\n",
      "./MALWR/JH78C0A33A1B472A8C16123FD696A5CE5EBB ./MALWR/FHHH6576C196385407B0F7F4B1B537D88983 1.0\n",
      "./MALWR/JH78C0A33A1B472A8C16123FD696A5CE5EBB ./MALWR/FGJKJJ1_2BA0D0083976A5C1E3315413CDCFFCD2 1.0\n",
      "./MALWR/JH78C0A33A1B472A8C16123FD696A5CE5EBB ./MALWR/99A39866A657A10949FCB6D634BB30D5 0.8580645161290322\n",
      "./MALWR/JH78C0A33A1B472A8C16123FD696A5CE5EBB ./MALWR/HJGQDD892986B2249B5214639ECC8AC0223 1.0\n",
      "./MALWR/JH78C0A33A1B472A8C16123FD696A5CE5EBB ./MALWR/785003A405BC7A4EBCBB21DDB757BF3F 1.0\n",
      "./MALWR/JH78C0A33A1B472A8C16123FD696A5CE5EBB ./MALWR/F8437E44748D2C3FCF84019766F4E6DC 1.0\n",
      "./MALWR/NBV_8B75BCBFF174C25A0161F30758509A44 ./MALWR/6FAA4740F99408D4D2DDDD0B09BBDEFD 1.0\n",
      "./MALWR/NBV_8B75BCBFF174C25A0161F30758509A44 ./MALWR/A316D5AECA269CA865077E7FFF356E7D 1.0\n",
      "./MALWR/NBV_8B75BCBFF174C25A0161F30758509A44 ./MALWR/650A6FCA433EE243391E4B4C11F09438 1.0\n",
      "./MALWR/NBV_8B75BCBFF174C25A0161F30758509A44 ./MALWR/65018CD542145A3792BA09985734C12A 0.8580645161290322\n",
      "./MALWR/NBV_8B75BCBFF174C25A0161F30758509A44 ./MALWR/33DE5067A433A6EC5C328067DC18EC37 0.8580645161290322\n",
      "./MALWR/NBV_8B75BCBFF174C25A0161F30758509A44 ./MALWR/JKK8CA6FE7A1315AF5AFEAC2961460A80569 1.0\n",
      "./MALWR/NBV_8B75BCBFF174C25A0161F30758509A44 ./MALWR/BVJ2D9FBF759F527AF373E34673DC3ACA462 1.0\n",
      "./MALWR/NBV_8B75BCBFF174C25A0161F30758509A44 ./MALWR/FHHH6576C196385407B0F7F4B1B537D88983 1.0\n",
      "./MALWR/NBV_8B75BCBFF174C25A0161F30758509A44 ./MALWR/FGJKJJ1_2BA0D0083976A5C1E3315413CDCFFCD2 1.0\n",
      "./MALWR/NBV_8B75BCBFF174C25A0161F30758509A44 ./MALWR/99A39866A657A10949FCB6D634BB30D5 0.8580645161290322\n",
      "./MALWR/NBV_8B75BCBFF174C25A0161F30758509A44 ./MALWR/HJGQDD892986B2249B5214639ECC8AC0223 1.0\n",
      "./MALWR/NBV_8B75BCBFF174C25A0161F30758509A44 ./MALWR/785003A405BC7A4EBCBB21DDB757BF3F 1.0\n",
      "./MALWR/NBV_8B75BCBFF174C25A0161F30758509A44 ./MALWR/F8437E44748D2C3FCF84019766F4E6DC 1.0\n",
      "./MALWR/POL55_A4F1ECC4D25B33395196B5D51A06790 ./MALWR/DS22_A670D13D4D014169C4080328B8FEB86 0.8850574712643678\n",
      "./MALWR/POL55_A4F1ECC4D25B33395196B5D51A06790 ./MALWR/K99_C3A9A7B026BFE0E55FF219FD6AA7D94 0.8778625954198473\n",
      "./MALWR/POL55_A4F1ECC4D25B33395196B5D51A06790 ./MALWR/NV99_C9C9DBF388A8D81D8CFB4D3FC05F8E4 0.8884615384615384\n",
      "./MALWR/POL55_A4F1ECC4D25B33395196B5D51A06790 ./MALWR/SAM_B659D71AE168E774FAAF38DB30F4A84 0.8821292775665399\n",
      "./MALWR/POL55_A4F1ECC4D25B33395196B5D51A06790 ./MALWR/KLp90_6D5C8FC4B14559F73B6136D85B94198 0.8884615384615384\n",
      "./MALWR/6FAA4740F99408D4D2DDDD0B09BBDEFD ./MALWR/A316D5AECA269CA865077E7FFF356E7D 1.0\n",
      "./MALWR/6FAA4740F99408D4D2DDDD0B09BBDEFD ./MALWR/650A6FCA433EE243391E4B4C11F09438 1.0\n",
      "./MALWR/6FAA4740F99408D4D2DDDD0B09BBDEFD ./MALWR/65018CD542145A3792BA09985734C12A 0.8580645161290322\n",
      "./MALWR/6FAA4740F99408D4D2DDDD0B09BBDEFD ./MALWR/33DE5067A433A6EC5C328067DC18EC37 0.8580645161290322\n",
      "./MALWR/6FAA4740F99408D4D2DDDD0B09BBDEFD ./MALWR/JKK8CA6FE7A1315AF5AFEAC2961460A80569 1.0\n",
      "./MALWR/6FAA4740F99408D4D2DDDD0B09BBDEFD ./MALWR/BVJ2D9FBF759F527AF373E34673DC3ACA462 1.0\n",
      "./MALWR/6FAA4740F99408D4D2DDDD0B09BBDEFD ./MALWR/FHHH6576C196385407B0F7F4B1B537D88983 1.0\n",
      "./MALWR/6FAA4740F99408D4D2DDDD0B09BBDEFD ./MALWR/FGJKJJ1_2BA0D0083976A5C1E3315413CDCFFCD2 1.0\n",
      "./MALWR/6FAA4740F99408D4D2DDDD0B09BBDEFD ./MALWR/99A39866A657A10949FCB6D634BB30D5 0.8580645161290322\n",
      "./MALWR/6FAA4740F99408D4D2DDDD0B09BBDEFD ./MALWR/HJGQDD892986B2249B5214639ECC8AC0223 1.0\n",
      "./MALWR/6FAA4740F99408D4D2DDDD0B09BBDEFD ./MALWR/785003A405BC7A4EBCBB21DDB757BF3F 1.0\n",
      "./MALWR/6FAA4740F99408D4D2DDDD0B09BBDEFD ./MALWR/F8437E44748D2C3FCF84019766F4E6DC 1.0\n",
      "./MALWR/A316D5AECA269CA865077E7FFF356E7D ./MALWR/650A6FCA433EE243391E4B4C11F09438 1.0\n",
      "./MALWR/A316D5AECA269CA865077E7FFF356E7D ./MALWR/65018CD542145A3792BA09985734C12A 0.8580645161290322\n",
      "./MALWR/A316D5AECA269CA865077E7FFF356E7D ./MALWR/33DE5067A433A6EC5C328067DC18EC37 0.8580645161290322\n",
      "./MALWR/A316D5AECA269CA865077E7FFF356E7D ./MALWR/JKK8CA6FE7A1315AF5AFEAC2961460A80569 1.0\n",
      "./MALWR/A316D5AECA269CA865077E7FFF356E7D ./MALWR/BVJ2D9FBF759F527AF373E34673DC3ACA462 1.0\n",
      "./MALWR/A316D5AECA269CA865077E7FFF356E7D ./MALWR/FHHH6576C196385407B0F7F4B1B537D88983 1.0\n",
      "./MALWR/A316D5AECA269CA865077E7FFF356E7D ./MALWR/FGJKJJ1_2BA0D0083976A5C1E3315413CDCFFCD2 1.0\n",
      "./MALWR/A316D5AECA269CA865077E7FFF356E7D ./MALWR/99A39866A657A10949FCB6D634BB30D5 0.8580645161290322\n",
      "./MALWR/A316D5AECA269CA865077E7FFF356E7D ./MALWR/HJGQDD892986B2249B5214639ECC8AC0223 1.0\n",
      "./MALWR/A316D5AECA269CA865077E7FFF356E7D ./MALWR/785003A405BC7A4EBCBB21DDB757BF3F 1.0\n",
      "./MALWR/A316D5AECA269CA865077E7FFF356E7D ./MALWR/F8437E44748D2C3FCF84019766F4E6DC 1.0\n",
      "./MALWR/650A6FCA433EE243391E4B4C11F09438 ./MALWR/65018CD542145A3792BA09985734C12A 0.8580645161290322\n",
      "./MALWR/650A6FCA433EE243391E4B4C11F09438 ./MALWR/33DE5067A433A6EC5C328067DC18EC37 0.8580645161290322\n",
      "./MALWR/650A6FCA433EE243391E4B4C11F09438 ./MALWR/JKK8CA6FE7A1315AF5AFEAC2961460A80569 1.0\n",
      "./MALWR/650A6FCA433EE243391E4B4C11F09438 ./MALWR/BVJ2D9FBF759F527AF373E34673DC3ACA462 1.0\n",
      "./MALWR/650A6FCA433EE243391E4B4C11F09438 ./MALWR/FHHH6576C196385407B0F7F4B1B537D88983 1.0\n",
      "./MALWR/650A6FCA433EE243391E4B4C11F09438 ./MALWR/FGJKJJ1_2BA0D0083976A5C1E3315413CDCFFCD2 1.0\n",
      "./MALWR/650A6FCA433EE243391E4B4C11F09438 ./MALWR/99A39866A657A10949FCB6D634BB30D5 0.8580645161290322\n",
      "./MALWR/650A6FCA433EE243391E4B4C11F09438 ./MALWR/HJGQDD892986B2249B5214639ECC8AC0223 1.0\n",
      "./MALWR/650A6FCA433EE243391E4B4C11F09438 ./MALWR/785003A405BC7A4EBCBB21DDB757BF3F 1.0\n",
      "./MALWR/650A6FCA433EE243391E4B4C11F09438 ./MALWR/F8437E44748D2C3FCF84019766F4E6DC 1.0\n",
      "./MALWR/QW2_4C6BDDCCA2695D6202DF38708E14FC7E ./MALWR/B98hX8E8622C393D7E832D39E620EAD5D3B49 0.8165491552481043\n",
      "./MALWR/QW2_4C6BDDCCA2695D6202DF38708E14FC7E ./MALWR/FGTR43_EF8E0FB20E7228C7492CCDC59D87C690 0.8601453035806954\n",
      "./MALWR/AAAz2E1B6940985A23E5639450F8391820655 ./MALWR/PL98_BD8B082B7711BC980252F988BB0CA936 0.9895808093045796\n",
      "./MALWR/AAAz2E1B6940985A23E5639450F8391820655 ./MALWR/VC990_468FF2C12CFFC7E5B2FE0EE6BB3B239E 0.8057595227168426\n",
      "./MALWR/AAAz2E1B6940985A23E5639450F8391820655 ./MALWR/AL65_DB05DF0498B59B42A8E493CF3C10C578 0.9895808093045796\n",
      "./MALWR/AAAz2E1B6940985A23E5639450F8391820655 ./MALWR/TG78Z__727A6800991EEAD454E53E8AF164A99C 0.8057595227168426\n",
      "./MALWR/RTC_7F85D7F628CE62D1D8F7B39D8940472 ./MALWR/VBMM9_149B7BD7218AAB4E257D28469FDDB0D 0.9792387543252595\n",
      "./MALWR/RTC_7F85D7F628CE62D1D8F7B39D8940472 ./MALWR/L11_1415EB8519D13328091CC5C76A624E3D 0.9724137931034482\n",
      "./MALWR/1F2EB7B090018D975E6D9B40868C94CA ./MALWR/B07322743778B5868475DBE66EEDAC4F 1.0\n",
      "./MALWR/1F2EB7B090018D975E6D9B40868C94CA ./MALWR/F6655E39465C2FF5B016980D918EA028 1.0\n",
      "./MALWR/1F2EB7B090018D975E6D9B40868C94CA ./MALWR/8442AE37B91F279A9F06DE4C60B286A3 1.0\n",
      "./MALWR/1F2EB7B090018D975E6D9B40868C94CA ./MALWR/FTTR9EA3C16194CE354C244C1B74C46CD92E 1.0\n",
      "./MALWR/1F2EB7B090018D975E6D9B40868C94CA ./MALWR/EEE99EC8AA67B05407C01094184C33D2B5A44 1.0\n",
      "./MALWR/B07322743778B5868475DBE66EEDAC4F ./MALWR/F6655E39465C2FF5B016980D918EA028 1.0\n",
      "./MALWR/B07322743778B5868475DBE66EEDAC4F ./MALWR/8442AE37B91F279A9F06DE4C60B286A3 1.0\n",
      "./MALWR/B07322743778B5868475DBE66EEDAC4F ./MALWR/FTTR9EA3C16194CE354C244C1B74C46CD92E 1.0\n",
      "./MALWR/B07322743778B5868475DBE66EEDAC4F ./MALWR/EEE99EC8AA67B05407C01094184C33D2B5A44 1.0\n",
      "./MALWR/PL98_BD8B082B7711BC980252F988BB0CA936 ./MALWR/VC990_468FF2C12CFFC7E5B2FE0EE6BB3B239E 0.8036858974358975\n",
      "./MALWR/PL98_BD8B082B7711BC980252F988BB0CA936 ./MALWR/AL65_DB05DF0498B59B42A8E493CF3C10C578 0.9992703392922291\n",
      "./MALWR/PL98_BD8B082B7711BC980252F988BB0CA936 ./MALWR/TG78Z__727A6800991EEAD454E53E8AF164A99C 0.8036858974358975\n",
      "./MALWR/DS22_A670D13D4D014169C4080328B8FEB86 ./MALWR/K99_C3A9A7B026BFE0E55FF219FD6AA7D94 0.9446640316205533\n",
      "./MALWR/DS22_A670D13D4D014169C4080328B8FEB86 ./MALWR/NV99_C9C9DBF388A8D81D8CFB4D3FC05F8E4 0.9561752988047809\n",
      "./MALWR/DS22_A670D13D4D014169C4080328B8FEB86 ./MALWR/SAM_B659D71AE168E774FAAF38DB30F4A84 0.8609022556390977\n",
      "./MALWR/DS22_A670D13D4D014169C4080328B8FEB86 ./MALWR/KLp90_6D5C8FC4B14559F73B6136D85B94198 0.9561752988047809\n",
      "./MALWR/65018CD542145A3792BA09985734C12A ./MALWR/33DE5067A433A6EC5C328067DC18EC37 1.0\n",
      "./MALWR/65018CD542145A3792BA09985734C12A ./MALWR/JKK8CA6FE7A1315AF5AFEAC2961460A80569 0.8580645161290322\n",
      "./MALWR/65018CD542145A3792BA09985734C12A ./MALWR/BVJ2D9FBF759F527AF373E34673DC3ACA462 0.8580645161290322\n",
      "./MALWR/65018CD542145A3792BA09985734C12A ./MALWR/FHHH6576C196385407B0F7F4B1B537D88983 0.8580645161290322\n",
      "./MALWR/65018CD542145A3792BA09985734C12A ./MALWR/FGJKJJ1_2BA0D0083976A5C1E3315413CDCFFCD2 0.8580645161290322\n",
      "./MALWR/65018CD542145A3792BA09985734C12A ./MALWR/99A39866A657A10949FCB6D634BB30D5 1.0\n",
      "./MALWR/65018CD542145A3792BA09985734C12A ./MALWR/HJGQDD892986B2249B5214639ECC8AC0223 0.8580645161290322\n",
      "./MALWR/65018CD542145A3792BA09985734C12A ./MALWR/785003A405BC7A4EBCBB21DDB757BF3F 0.8580645161290322\n",
      "./MALWR/65018CD542145A3792BA09985734C12A ./MALWR/F8437E44748D2C3FCF84019766F4E6DC 0.8580645161290322\n",
      "./MALWR/33DE5067A433A6EC5C328067DC18EC37 ./MALWR/JKK8CA6FE7A1315AF5AFEAC2961460A80569 0.8580645161290322\n",
      "./MALWR/33DE5067A433A6EC5C328067DC18EC37 ./MALWR/BVJ2D9FBF759F527AF373E34673DC3ACA462 0.8580645161290322\n",
      "./MALWR/33DE5067A433A6EC5C328067DC18EC37 ./MALWR/FHHH6576C196385407B0F7F4B1B537D88983 0.8580645161290322\n",
      "./MALWR/33DE5067A433A6EC5C328067DC18EC37 ./MALWR/FGJKJJ1_2BA0D0083976A5C1E3315413CDCFFCD2 0.8580645161290322\n",
      "./MALWR/33DE5067A433A6EC5C328067DC18EC37 ./MALWR/99A39866A657A10949FCB6D634BB30D5 1.0\n",
      "./MALWR/33DE5067A433A6EC5C328067DC18EC37 ./MALWR/HJGQDD892986B2249B5214639ECC8AC0223 0.8580645161290322\n",
      "./MALWR/33DE5067A433A6EC5C328067DC18EC37 ./MALWR/785003A405BC7A4EBCBB21DDB757BF3F 0.8580645161290322\n",
      "./MALWR/33DE5067A433A6EC5C328067DC18EC37 ./MALWR/F8437E44748D2C3FCF84019766F4E6DC 0.8580645161290322\n",
      "./MALWR/VC990_468FF2C12CFFC7E5B2FE0EE6BB3B239E ./MALWR/AL65_DB05DF0498B59B42A8E493CF3C10C578 0.8038923869490555\n",
      "./MALWR/VC990_468FF2C12CFFC7E5B2FE0EE6BB3B239E ./MALWR/TG78Z__727A6800991EEAD454E53E8AF164A99C 0.9997346776333245\n",
      "./MALWR/VBMM9_149B7BD7218AAB4E257D28469FDDB0D ./MALWR/L11_1415EB8519D13328091CC5C76A624E3D 0.9724137931034482\n",
      "./MALWR/JKK8CA6FE7A1315AF5AFEAC2961460A80569 ./MALWR/BVJ2D9FBF759F527AF373E34673DC3ACA462 1.0\n",
      "./MALWR/JKK8CA6FE7A1315AF5AFEAC2961460A80569 ./MALWR/FHHH6576C196385407B0F7F4B1B537D88983 1.0\n",
      "./MALWR/JKK8CA6FE7A1315AF5AFEAC2961460A80569 ./MALWR/FGJKJJ1_2BA0D0083976A5C1E3315413CDCFFCD2 1.0\n",
      "./MALWR/JKK8CA6FE7A1315AF5AFEAC2961460A80569 ./MALWR/99A39866A657A10949FCB6D634BB30D5 0.8580645161290322\n",
      "./MALWR/JKK8CA6FE7A1315AF5AFEAC2961460A80569 ./MALWR/HJGQDD892986B2249B5214639ECC8AC0223 1.0\n",
      "./MALWR/JKK8CA6FE7A1315AF5AFEAC2961460A80569 ./MALWR/785003A405BC7A4EBCBB21DDB757BF3F 1.0\n",
      "./MALWR/JKK8CA6FE7A1315AF5AFEAC2961460A80569 ./MALWR/F8437E44748D2C3FCF84019766F4E6DC 1.0\n",
      "./MALWR/K99_C3A9A7B026BFE0E55FF219FD6AA7D94 ./MALWR/NV99_C9C9DBF388A8D81D8CFB4D3FC05F8E4 0.9484126984126984\n",
      "./MALWR/K99_C3A9A7B026BFE0E55FF219FD6AA7D94 ./MALWR/SAM_B659D71AE168E774FAAF38DB30F4A84 0.8609022556390977\n",
      "./MALWR/K99_C3A9A7B026BFE0E55FF219FD6AA7D94 ./MALWR/KLp90_6D5C8FC4B14559F73B6136D85B94198 0.9484126984126984\n",
      "./MALWR/BVJ2D9FBF759F527AF373E34673DC3ACA462 ./MALWR/FHHH6576C196385407B0F7F4B1B537D88983 1.0\n",
      "./MALWR/BVJ2D9FBF759F527AF373E34673DC3ACA462 ./MALWR/FGJKJJ1_2BA0D0083976A5C1E3315413CDCFFCD2 1.0\n",
      "./MALWR/BVJ2D9FBF759F527AF373E34673DC3ACA462 ./MALWR/99A39866A657A10949FCB6D634BB30D5 0.8580645161290322\n",
      "./MALWR/BVJ2D9FBF759F527AF373E34673DC3ACA462 ./MALWR/HJGQDD892986B2249B5214639ECC8AC0223 1.0\n",
      "./MALWR/BVJ2D9FBF759F527AF373E34673DC3ACA462 ./MALWR/785003A405BC7A4EBCBB21DDB757BF3F 1.0\n",
      "./MALWR/BVJ2D9FBF759F527AF373E34673DC3ACA462 ./MALWR/F8437E44748D2C3FCF84019766F4E6DC 1.0\n",
      "./MALWR/FHHH6576C196385407B0F7F4B1B537D88983 ./MALWR/FGJKJJ1_2BA0D0083976A5C1E3315413CDCFFCD2 1.0\n",
      "./MALWR/FHHH6576C196385407B0F7F4B1B537D88983 ./MALWR/99A39866A657A10949FCB6D634BB30D5 0.8580645161290322\n",
      "./MALWR/FHHH6576C196385407B0F7F4B1B537D88983 ./MALWR/HJGQDD892986B2249B5214639ECC8AC0223 1.0\n",
      "./MALWR/FHHH6576C196385407B0F7F4B1B537D88983 ./MALWR/785003A405BC7A4EBCBB21DDB757BF3F 1.0\n",
      "./MALWR/FHHH6576C196385407B0F7F4B1B537D88983 ./MALWR/F8437E44748D2C3FCF84019766F4E6DC 1.0\n",
      "./MALWR/AL65_DB05DF0498B59B42A8E493CF3C10C578 ./MALWR/TG78Z__727A6800991EEAD454E53E8AF164A99C 0.8038923869490555\n",
      "./MALWR/B98hX8E8622C393D7E832D39E620EAD5D3B49 ./MALWR/FGTR43_EF8E0FB20E7228C7492CCDC59D87C690 0.8135188866799204\n",
      "./MALWR/FGJKJJ1_2BA0D0083976A5C1E3315413CDCFFCD2 ./MALWR/99A39866A657A10949FCB6D634BB30D5 0.8580645161290322\n",
      "./MALWR/FGJKJJ1_2BA0D0083976A5C1E3315413CDCFFCD2 ./MALWR/HJGQDD892986B2249B5214639ECC8AC0223 1.0\n",
      "./MALWR/FGJKJJ1_2BA0D0083976A5C1E3315413CDCFFCD2 ./MALWR/785003A405BC7A4EBCBB21DDB757BF3F 1.0\n",
      "./MALWR/FGJKJJ1_2BA0D0083976A5C1E3315413CDCFFCD2 ./MALWR/F8437E44748D2C3FCF84019766F4E6DC 1.0\n",
      "./MALWR/99A39866A657A10949FCB6D634BB30D5 ./MALWR/HJGQDD892986B2249B5214639ECC8AC0223 0.8580645161290322\n",
      "./MALWR/99A39866A657A10949FCB6D634BB30D5 ./MALWR/785003A405BC7A4EBCBB21DDB757BF3F 0.8580645161290322\n",
      "./MALWR/99A39866A657A10949FCB6D634BB30D5 ./MALWR/F8437E44748D2C3FCF84019766F4E6DC 0.8580645161290322\n",
      "./MALWR/HJGQDD892986B2249B5214639ECC8AC0223 ./MALWR/785003A405BC7A4EBCBB21DDB757BF3F 1.0\n",
      "./MALWR/HJGQDD892986B2249B5214639ECC8AC0223 ./MALWR/F8437E44748D2C3FCF84019766F4E6DC 1.0\n",
      "./MALWR/785003A405BC7A4EBCBB21DDB757BF3F ./MALWR/F8437E44748D2C3FCF84019766F4E6DC 1.0\n",
      "./MALWR/NV99_C9C9DBF388A8D81D8CFB4D3FC05F8E4 ./MALWR/SAM_B659D71AE168E774FAAF38DB30F4A84 0.8641509433962264\n",
      "./MALWR/NV99_C9C9DBF388A8D81D8CFB4D3FC05F8E4 ./MALWR/KLp90_6D5C8FC4B14559F73B6136D85B94198 1.0\n",
      "./MALWR/F6655E39465C2FF5B016980D918EA028 ./MALWR/8442AE37B91F279A9F06DE4C60B286A3 1.0\n",
      "./MALWR/F6655E39465C2FF5B016980D918EA028 ./MALWR/FTTR9EA3C16194CE354C244C1B74C46CD92E 1.0\n",
      "./MALWR/F6655E39465C2FF5B016980D918EA028 ./MALWR/EEE99EC8AA67B05407C01094184C33D2B5A44 1.0\n",
      "./MALWR/8442AE37B91F279A9F06DE4C60B286A3 ./MALWR/FTTR9EA3C16194CE354C244C1B74C46CD92E 1.0\n",
      "./MALWR/8442AE37B91F279A9F06DE4C60B286A3 ./MALWR/EEE99EC8AA67B05407C01094184C33D2B5A44 1.0\n",
      "./MALWR/SAM_B659D71AE168E774FAAF38DB30F4A84 ./MALWR/KLp90_6D5C8FC4B14559F73B6136D85B94198 0.8641509433962264\n",
      "./MALWR/FTTR9EA3C16194CE354C244C1B74C46CD92E ./MALWR/EEE99EC8AA67B05407C01094184C33D2B5A44 1.0\n"
     ]
    },
    {
     "data": {
      "image/png": "[encoded data removed]",
      "text/plain": [
       "<Figure size 640x480 with 1 Axes>"
      ]
     },
     "metadata": {},
     "output_type": "display_data"
    }
   ],
   "source": [
    "from jacard import run_jacard\n",
    "\n",
    "run_jacard()\n"
   ]
  },
  {
   "attachments": {},
   "cell_type": "markdown",
   "metadata": {},
   "source": [
    "### DBSCAN"
   ]
  },
  {
   "cell_type": "code",
   "execution_count": 167,
   "metadata": {},
   "outputs": [
    {
     "data": {
      "text/plain": [
       "<matplotlib.collections.PathCollection at 0x2a592e800>"
      ]
     },
     "execution_count": 167,
     "metadata": {},
     "output_type": "execute_result"
    },
    {
     "data": {
      "image/png": "[encoded data removed]",
      "text/plain": [
       "<Figure size 640x480 with 1 Axes>"
      ]
     },
     "metadata": {},
     "output_type": "display_data"
    }
   ],
   "source": [
    "clusters = DBSCAN(eps = 0.5, min_samples = 50).fit(scaler_data)\n",
    "\n",
    "plt.scatter(scaler_data[:,0], scaler_data[:,1], c=clusters.labels_, s=50, cmap='viridis')"
   ]
  },
  {
   "cell_type": "code",
   "execution_count": 168,
   "metadata": {},
   "outputs": [
    {
     "data": {
      "text/plain": [
       "array([-1, -1, -1, -1, -1, -1, -1, -1, -1, -1, -1, -1, -1, -1, -1, -1, -1,\n",
       "       -1, -1, -1, -1, -1, -1, -1, -1, -1, -1, -1, -1, -1, -1, -1, -1, -1,\n",
       "       -1, -1, -1, -1, -1, -1])"
      ]
     },
     "execution_count": 168,
     "metadata": {},
     "output_type": "execute_result"
    }
   ],
   "source": [
    "clusters.labels_"
   ]
  },
  {
   "attachments": {},
   "cell_type": "markdown",
   "metadata": {},
   "source": [
    "## Conclusiones\n",
    "1. ¿Para qué número de clústeres se obtiene el coeficiente de Silhouette más alto?\n",
    "\n",
    "    **Acorde a al grafica de silhouette el coeficiente mas alto es el 7, quiere decir la cantidad de clusters que se deberia de utilizar**\n",
    "2. ¿Coincide el coeficiente de Silhouette con el método del codo?\n",
    "    \n",
    "    **No, el coeficiente de silhouette nos da 7 pero el metodo del codo nos da un resultado entre 3 y 5.**\n",
    "3. ¿Cuántas familias existen entre los ejemplares de malware proporcionados?\n",
    "\n",
    "    **Por Jacard se observan 9 familias**\n",
    "4. ¿Coincide el índice de Jaccard con las familias encontradas?\n",
    "\n",
    "    **Dado la cantidad de cluster 7 podemos ver que se acercó bastante siendo 9 familias en Jaccard**"
   ]
  }
 ],
 "metadata": {
  "kernelspec": {
   "display_name": "env",
   "language": "python",
   "name": "python3"
  },
  "language_info": {
   "codemirror_mode": {
    "name": "ipython",
    "version": 3
   },
   "file_extension": ".py",
   "mimetype": "text/x-python",
   "name": "python",
   "nbconvert_exporter": "python",
   "pygments_lexer": "ipython3",
   "version": "3.10.4"
  },
  "orig_nbformat": 4,
  "vscode": {
   "interpreter": {
    "hash": "5de529e60273747c23bbf6f153bb8fabf1e84024bd2820f82dc84614fd86a7be"
   }
  }
 },
 "nbformat": 4,
 "nbformat_minor": 2
}
